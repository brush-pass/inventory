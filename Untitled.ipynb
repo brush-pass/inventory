{
 "cells": [
  {
   "cell_type": "code",
   "execution_count": 100,
   "id": "a0eeccf5-6979-4f38-a5b3-728845ddfa12",
   "metadata": {
    "extensions": {
     "jupyter_dashboards": {
      "activeView": "grid_default",
      "views": {
       "grid_default": {
        "col": 5,
        "height": 2,
        "hidden": false,
        "locked": false,
        "row": 2,
        "width": 7
       }
      }
     }
    },
    "tags": []
   },
   "outputs": [
    {
     "data": {
      "application/vnd.jupyter.widget-view+json": {
       "model_id": "4429888f25c740849d8c6415acf248b0",
       "version_major": 2,
       "version_minor": 0
      },
      "text/plain": [
       "FileUpload(value={}, accept='.txt', description='Upload', multiple=True)"
      ]
     },
     "metadata": {},
     "output_type": "display_data"
    }
   ],
   "source": [
    "from ipywidgets import FileUpload\n",
    "from IPython.display import display\n",
    "upload = FileUpload(accept='.txt', multiple=True)\n",
    "display(upload)\n"
   ]
  },
  {
   "cell_type": "code",
   "execution_count": 101,
   "id": "b2a860e8-a90f-4091-9243-4576207ca142",
   "metadata": {
    "extensions": {
     "jupyter_dashboards": {
      "activeView": "grid_default",
      "views": {
       "grid_default": {
        "col": null,
        "height": 2,
        "hidden": true,
        "locked": true,
        "row": null,
        "width": 2
       }
      }
     }
    }
   },
   "outputs": [],
   "source": [
    "for name, file_info in upload.value.items():\n",
    "    print(name)"
   ]
  },
  {
   "cell_type": "code",
   "execution_count": 102,
   "id": "4365263c-42e8-42ba-ab2d-824ff1d6d612",
   "metadata": {
    "extensions": {
     "jupyter_dashboards": {
      "activeView": "grid_default",
      "views": {
       "grid_default": {
        "col": 2,
        "height": 3,
        "hidden": true,
        "locked": false,
        "row": 3,
        "width": 7
       }
      }
     }
    },
    "tags": []
   },
   "outputs": [
    {
     "data": {
      "application/vnd.jupyter.widget-view+json": {
       "model_id": "b0533fbc58944d6d85f3d9159edd6ee9",
       "version_major": 2,
       "version_minor": 0
      },
      "text/plain": [
       "VBox(children=(FloatSlider(value=4.0, description='$x$'), FloatText(value=16.0, description='$x^2$', disabled=…"
      ]
     },
     "metadata": {},
     "output_type": "display_data"
    }
   ],
   "source": [
    "import ipywidgets as widgets\n",
    "\n",
    "slider = widgets.FloatSlider(description='$x$')\n",
    "text = widgets.FloatText(disabled=True, description='$x^2$')\n",
    "\n",
    "def compute(*ignore):\n",
    "    text.value = str(slider.value ** 2)\n",
    "\n",
    "slider.observe(compute, 'value')\n",
    "\n",
    "slider.value = 4\n",
    "\n",
    "widgets.VBox([slider, text])"
   ]
  },
  {
   "cell_type": "code",
   "execution_count": 103,
   "id": "cdf722ef-9f9c-4e6f-8b0c-d20a5cb1b52a",
   "metadata": {
    "extensions": {
     "jupyter_dashboards": {
      "activeView": "grid_default",
      "views": {
       "grid_default": {
        "col": 2,
        "height": 11,
        "hidden": false,
        "locked": true,
        "row": 8,
        "width": 10
       }
      }
     }
    },
    "tags": []
   },
   "outputs": [
    {
     "data": {
      "text/html": [
       "<div>\n",
       "<style scoped>\n",
       "    .dataframe tbody tr th:only-of-type {\n",
       "        vertical-align: middle;\n",
       "    }\n",
       "\n",
       "    .dataframe tbody tr th {\n",
       "        vertical-align: top;\n",
       "    }\n",
       "\n",
       "    .dataframe thead th {\n",
       "        text-align: right;\n",
       "    }\n",
       "</style>\n",
       "<table border=\"1\" class=\"dataframe\">\n",
       "  <thead>\n",
       "    <tr style=\"text-align: right;\">\n",
       "      <th></th>\n",
       "      <th>sepal_length</th>\n",
       "      <th>sepal_width</th>\n",
       "      <th>petal_length</th>\n",
       "      <th>petal_width</th>\n",
       "      <th>species</th>\n",
       "    </tr>\n",
       "  </thead>\n",
       "  <tbody>\n",
       "    <tr>\n",
       "      <th>0</th>\n",
       "      <td>5.1</td>\n",
       "      <td>3.5</td>\n",
       "      <td>1.4</td>\n",
       "      <td>0.2</td>\n",
       "      <td>setosa</td>\n",
       "    </tr>\n",
       "    <tr>\n",
       "      <th>1</th>\n",
       "      <td>4.9</td>\n",
       "      <td>3.0</td>\n",
       "      <td>1.4</td>\n",
       "      <td>0.2</td>\n",
       "      <td>setosa</td>\n",
       "    </tr>\n",
       "    <tr>\n",
       "      <th>2</th>\n",
       "      <td>4.7</td>\n",
       "      <td>3.2</td>\n",
       "      <td>1.3</td>\n",
       "      <td>0.2</td>\n",
       "      <td>setosa</td>\n",
       "    </tr>\n",
       "    <tr>\n",
       "      <th>3</th>\n",
       "      <td>4.6</td>\n",
       "      <td>3.1</td>\n",
       "      <td>1.5</td>\n",
       "      <td>0.2</td>\n",
       "      <td>setosa</td>\n",
       "    </tr>\n",
       "    <tr>\n",
       "      <th>4</th>\n",
       "      <td>5.0</td>\n",
       "      <td>3.6</td>\n",
       "      <td>1.4</td>\n",
       "      <td>0.2</td>\n",
       "      <td>setosa</td>\n",
       "    </tr>\n",
       "    <tr>\n",
       "      <th>...</th>\n",
       "      <td>...</td>\n",
       "      <td>...</td>\n",
       "      <td>...</td>\n",
       "      <td>...</td>\n",
       "      <td>...</td>\n",
       "    </tr>\n",
       "    <tr>\n",
       "      <th>145</th>\n",
       "      <td>6.7</td>\n",
       "      <td>3.0</td>\n",
       "      <td>5.2</td>\n",
       "      <td>2.3</td>\n",
       "      <td>virginica</td>\n",
       "    </tr>\n",
       "    <tr>\n",
       "      <th>146</th>\n",
       "      <td>6.3</td>\n",
       "      <td>2.5</td>\n",
       "      <td>5.0</td>\n",
       "      <td>1.9</td>\n",
       "      <td>virginica</td>\n",
       "    </tr>\n",
       "    <tr>\n",
       "      <th>147</th>\n",
       "      <td>6.5</td>\n",
       "      <td>3.0</td>\n",
       "      <td>5.2</td>\n",
       "      <td>2.0</td>\n",
       "      <td>virginica</td>\n",
       "    </tr>\n",
       "    <tr>\n",
       "      <th>148</th>\n",
       "      <td>6.2</td>\n",
       "      <td>3.4</td>\n",
       "      <td>5.4</td>\n",
       "      <td>2.3</td>\n",
       "      <td>virginica</td>\n",
       "    </tr>\n",
       "    <tr>\n",
       "      <th>149</th>\n",
       "      <td>5.9</td>\n",
       "      <td>3.0</td>\n",
       "      <td>5.1</td>\n",
       "      <td>1.8</td>\n",
       "      <td>virginica</td>\n",
       "    </tr>\n",
       "  </tbody>\n",
       "</table>\n",
       "<p>150 rows × 5 columns</p>\n",
       "</div>"
      ],
      "text/plain": [
       "     sepal_length  sepal_width  petal_length  petal_width    species\n",
       "0             5.1          3.5           1.4          0.2     setosa\n",
       "1             4.9          3.0           1.4          0.2     setosa\n",
       "2             4.7          3.2           1.3          0.2     setosa\n",
       "3             4.6          3.1           1.5          0.2     setosa\n",
       "4             5.0          3.6           1.4          0.2     setosa\n",
       "..            ...          ...           ...          ...        ...\n",
       "145           6.7          3.0           5.2          2.3  virginica\n",
       "146           6.3          2.5           5.0          1.9  virginica\n",
       "147           6.5          3.0           5.2          2.0  virginica\n",
       "148           6.2          3.4           5.4          2.3  virginica\n",
       "149           5.9          3.0           5.1          1.8  virginica\n",
       "\n",
       "[150 rows x 5 columns]"
      ]
     },
     "execution_count": 103,
     "metadata": {},
     "output_type": "execute_result"
    }
   ],
   "source": [
    "import pandas as pd\n",
    "\n",
    "iris = pd.read_csv('https://raw.githubusercontent.com/mwaskom/seaborn-data/master/iris.csv')\n",
    "iris\n"
   ]
  },
  {
   "cell_type": "code",
   "execution_count": 104,
   "id": "856ee54f-35f7-4c0f-9084-40439a8ae60f",
   "metadata": {
    "extensions": {
     "jupyter_dashboards": {
      "activeView": "grid_default",
      "views": {
       "grid_default": {
        "col": 1,
        "height": 2,
        "hidden": true,
        "locked": true,
        "row": 6,
        "width": 11
       }
      }
     }
    },
    "tags": []
   },
   "outputs": [
    {
     "data": {
      "application/vnd.jupyter.widget-view+json": {
       "model_id": "09f4d43d222b453f9beb2ed48021f9d5",
       "version_major": 2,
       "version_minor": 0
      },
      "text/plain": [
       "IntSlider(value=0)"
      ]
     },
     "metadata": {},
     "output_type": "display_data"
    }
   ],
   "source": [
    "from IPython.display import display\n",
    "w = widgets.IntSlider()\n",
    "display(w)"
   ]
  },
  {
   "cell_type": "code",
   "execution_count": 105,
   "id": "f69a2589-144a-4eb8-ada1-397783e54cb5",
   "metadata": {
    "extensions": {
     "jupyter_dashboards": {
      "activeView": "grid_default",
      "views": {
       "grid_default": {
        "col": 1,
        "height": 4,
        "hidden": true,
        "locked": true,
        "row": 19,
        "width": 11
       }
      }
     }
    },
    "tags": []
   },
   "outputs": [
    {
     "data": {
      "application/vnd.jupyter.widget-view+json": {
       "model_id": "9738f3e8fcf84f1b9e149ab3b56f608d",
       "version_major": 2,
       "version_minor": 0
      },
      "text/plain": [
       "VBox(children=(FloatSlider(value=4.0, description='$x$'), FloatText(value=16.0, description='$x^2$', disabled=…"
      ]
     },
     "metadata": {},
     "output_type": "display_data"
    }
   ],
   "source": [
    "import ipywidgets as widgets\n",
    "\n",
    "slider = widgets.FloatSlider(description='$x$')\n",
    "text = widgets.FloatText(disabled=True, description='$x^2$')\n",
    "\n",
    "def compute(*ignore):\n",
    "    text.value = str(slider.value ** 2)\n",
    "\n",
    "slider.observe(compute, 'value')\n",
    "\n",
    "slider.value = 4\n",
    "\n",
    "widgets.VBox([slider, text])"
   ]
  },
  {
   "cell_type": "code",
   "execution_count": 105,
   "id": "045b595e-d2c5-44a1-a7cb-18a2922f4049",
   "metadata": {
    "extensions": {
     "jupyter_dashboards": {
      "activeView": "grid_default",
      "views": {
       "grid_default": {
        "col": null,
        "height": 2,
        "hidden": true,
        "locked": true,
        "row": null,
        "width": 2
       }
      }
     }
    }
   },
   "outputs": [],
   "source": []
  },
  {
   "cell_type": "code",
   "execution_count": 105,
   "id": "1d79a039-0f59-477c-9283-216de0e34cee",
   "metadata": {
    "extensions": {
     "jupyter_dashboards": {
      "activeView": "grid_default",
      "views": {
       "grid_default": {
        "col": null,
        "height": 2,
        "hidden": true,
        "locked": true,
        "row": null,
        "width": 2
       }
      }
     }
    },
    "tags": []
   },
   "outputs": [],
   "source": [
    "\n"
   ]
  },
  {
   "cell_type": "code",
   "execution_count": 106,
   "id": "e42659bc-89db-4bcd-a4b0-9185e71315cb",
   "metadata": {
    "extensions": {
     "jupyter_dashboards": {
      "activeView": "grid_default",
      "views": {
       "grid_default": {
        "col": null,
        "height": 2,
        "hidden": true,
        "locked": true,
        "row": null,
        "width": 2
       }
      }
     }
    }
   },
   "outputs": [
    {
     "data": {
      "text/html": [
       "<div>\n",
       "<style scoped>\n",
       "    .dataframe tbody tr th:only-of-type {\n",
       "        vertical-align: middle;\n",
       "    }\n",
       "\n",
       "    .dataframe tbody tr th {\n",
       "        vertical-align: top;\n",
       "    }\n",
       "\n",
       "    .dataframe thead th {\n",
       "        text-align: right;\n",
       "    }\n",
       "</style>\n",
       "<table border=\"1\" class=\"dataframe\">\n",
       "  <thead>\n",
       "    <tr style=\"text-align: right;\">\n",
       "      <th></th>\n",
       "      <th>Temperature</th>\n",
       "      <th>Humidity</th>\n",
       "      <th>Light</th>\n",
       "      <th>CO2</th>\n",
       "      <th>HumidityRatio</th>\n",
       "      <th>Occupancy</th>\n",
       "    </tr>\n",
       "    <tr>\n",
       "      <th>date</th>\n",
       "      <th></th>\n",
       "      <th></th>\n",
       "      <th></th>\n",
       "      <th></th>\n",
       "      <th></th>\n",
       "      <th></th>\n",
       "    </tr>\n",
       "  </thead>\n",
       "  <tbody>\n",
       "    <tr>\n",
       "      <th>2015-02-10 09:29:00</th>\n",
       "      <td>21.05</td>\n",
       "      <td>36.0975</td>\n",
       "      <td>433.0</td>\n",
       "      <td>787.250000</td>\n",
       "      <td>0.005579</td>\n",
       "      <td>1</td>\n",
       "    </tr>\n",
       "    <tr>\n",
       "      <th>2015-02-10 09:29:59</th>\n",
       "      <td>21.05</td>\n",
       "      <td>35.9950</td>\n",
       "      <td>433.0</td>\n",
       "      <td>789.500000</td>\n",
       "      <td>0.005563</td>\n",
       "      <td>1</td>\n",
       "    </tr>\n",
       "    <tr>\n",
       "      <th>2015-02-10 09:30:59</th>\n",
       "      <td>21.10</td>\n",
       "      <td>36.0950</td>\n",
       "      <td>433.0</td>\n",
       "      <td>798.500000</td>\n",
       "      <td>0.005596</td>\n",
       "      <td>1</td>\n",
       "    </tr>\n",
       "    <tr>\n",
       "      <th>2015-02-10 09:32:00</th>\n",
       "      <td>21.10</td>\n",
       "      <td>36.2600</td>\n",
       "      <td>433.0</td>\n",
       "      <td>820.333333</td>\n",
       "      <td>0.005621</td>\n",
       "      <td>1</td>\n",
       "    </tr>\n",
       "    <tr>\n",
       "      <th>2015-02-10 09:33:00</th>\n",
       "      <td>21.10</td>\n",
       "      <td>36.2000</td>\n",
       "      <td>447.0</td>\n",
       "      <td>821.000000</td>\n",
       "      <td>0.005612</td>\n",
       "      <td>1</td>\n",
       "    </tr>\n",
       "  </tbody>\n",
       "</table>\n",
       "</div>"
      ],
      "text/plain": [
       "                     Temperature  Humidity  Light         CO2  HumidityRatio  \\\n",
       "date                                                                           \n",
       "2015-02-10 09:29:00        21.05   36.0975  433.0  787.250000       0.005579   \n",
       "2015-02-10 09:29:59        21.05   35.9950  433.0  789.500000       0.005563   \n",
       "2015-02-10 09:30:59        21.10   36.0950  433.0  798.500000       0.005596   \n",
       "2015-02-10 09:32:00        21.10   36.2600  433.0  820.333333       0.005621   \n",
       "2015-02-10 09:33:00        21.10   36.2000  447.0  821.000000       0.005612   \n",
       "\n",
       "                     Occupancy  \n",
       "date                            \n",
       "2015-02-10 09:29:00          1  \n",
       "2015-02-10 09:29:59          1  \n",
       "2015-02-10 09:30:59          1  \n",
       "2015-02-10 09:32:00          1  \n",
       "2015-02-10 09:33:00          1  "
      ]
     },
     "execution_count": 106,
     "metadata": {},
     "output_type": "execute_result"
    }
   ],
   "source": [
    "import pandas as pd; import numpy as np; import matplotlib.pyplot as plt\n",
    "\n",
    "csv_file = 'https://raw.githubusercontent.com/holoviz/panel/main/examples/assets/occupancy.csv'\n",
    "data = pd.read_csv(csv_file, parse_dates=['date'], index_col='date')\n",
    "\n",
    "data.tail()"
   ]
  },
  {
   "cell_type": "code",
   "execution_count": 107,
   "id": "5b5900fd-a777-4d14-bb23-6ad95c3f96bc",
   "metadata": {
    "extensions": {
     "jupyter_dashboards": {
      "activeView": "grid_default",
      "views": {
       "grid_default": {
        "col": null,
        "height": 2,
        "hidden": true,
        "locked": true,
        "row": null,
        "width": 2
       }
      }
     }
    }
   },
   "outputs": [],
   "source": [
    "import matplotlib as mpl\n",
    "mpl.use('agg')\n",
    "\n",
    "from matplotlib.figure import Figure\n",
    "\n",
    "def mpl_plot(avg, highlight):\n",
    "    fig = Figure()\n",
    "    ax = fig.add_subplot()\n",
    "    avg.plot(ax=ax)\n",
    "    if len(highlight): highlight.plot(style='o', ax=ax)\n",
    "    return fig\n",
    "\n",
    "def find_outliers(variable='Temperature', window=30, sigma=10, view_fn=mpl_plot):\n",
    "    avg = data[variable].rolling(window=window).mean()\n",
    "    residual = data[variable] - avg\n",
    "    std = residual.rolling(window=window).std()\n",
    "    outliers = (np.abs(residual) > std * sigma)\n",
    "    return view_fn(avg, avg[outliers])"
   ]
  },
  {
   "cell_type": "code",
   "execution_count": 108,
   "id": "984382fc-7f61-4d7c-b415-2c2f8945618b",
   "metadata": {
    "extensions": {
     "jupyter_dashboards": {
      "activeView": "grid_default",
      "views": {
       "grid_default": {
        "col": null,
        "height": 2,
        "hidden": true,
        "locked": true,
        "row": null,
        "width": 2
       }
      }
     }
    }
   },
   "outputs": [
    {
     "data": {
      "text/plain": [
       "<Figure size 640x480 with 1 Axes>"
      ]
     },
     "execution_count": 108,
     "metadata": {},
     "output_type": "execute_result"
    }
   ],
   "source": [
    "find_outliers(variable='Temperature', window=20, sigma=10)\n",
    "\n"
   ]
  },
  {
   "cell_type": "code",
   "execution_count": 109,
   "id": "dc6da870-d847-46c3-8310-f620024ed925",
   "metadata": {
    "extensions": {
     "jupyter_dashboards": {
      "activeView": "grid_default",
      "views": {
       "grid_default": {
        "col": null,
        "height": 2,
        "hidden": true,
        "locked": true,
        "row": null,
        "width": 2
       }
      }
     }
    }
   },
   "outputs": [
    {
     "data": {
      "application/javascript": [
       "(function(root) {\n",
       "  function now() {\n",
       "    return new Date();\n",
       "  }\n",
       "\n",
       "  var force = true;\n",
       "\n",
       "  if (typeof root._bokeh_onload_callbacks === \"undefined\" || force === true) {\n",
       "    root._bokeh_onload_callbacks = [];\n",
       "    root._bokeh_is_loading = undefined;\n",
       "  }\n",
       "\n",
       "  if (typeof (root._bokeh_timeout) === \"undefined\" || force === true) {\n",
       "    root._bokeh_timeout = Date.now() + 5000;\n",
       "    root._bokeh_failed_load = false;\n",
       "  }\n",
       "\n",
       "  function run_callbacks() {\n",
       "    try {\n",
       "      root._bokeh_onload_callbacks.forEach(function(callback) {\n",
       "        if (callback != null)\n",
       "          callback();\n",
       "      });\n",
       "    } finally {\n",
       "      delete root._bokeh_onload_callbacks\n",
       "    }\n",
       "    console.debug(\"Bokeh: all callbacks have finished\");\n",
       "  }\n",
       "\n",
       "  function load_libs(css_urls, js_urls, js_modules, callback) {\n",
       "    if (css_urls == null) css_urls = [];\n",
       "    if (js_urls == null) js_urls = [];\n",
       "    if (js_modules == null) js_modules = [];\n",
       "\n",
       "    root._bokeh_onload_callbacks.push(callback);\n",
       "    if (root._bokeh_is_loading > 0) {\n",
       "      console.debug(\"Bokeh: BokehJS is being loaded, scheduling callback at\", now());\n",
       "      return null;\n",
       "    }\n",
       "    if (js_urls.length === 0 && js_modules.length === 0) {\n",
       "      run_callbacks();\n",
       "      return null;\n",
       "    }\n",
       "    console.debug(\"Bokeh: BokehJS not loaded, scheduling load and callback at\", now());\n",
       "\n",
       "    function on_load() {\n",
       "      root._bokeh_is_loading--;\n",
       "      if (root._bokeh_is_loading === 0) {\n",
       "        console.debug(\"Bokeh: all BokehJS libraries/stylesheets loaded\");\n",
       "        run_callbacks()\n",
       "      }\n",
       "    }\n",
       "\n",
       "    function on_error() {\n",
       "      console.error(\"failed to load \" + url);\n",
       "    }\n",
       "\n",
       "    for (var i = 0; i < css_urls.length; i++) {\n",
       "      var url = css_urls[i];\n",
       "      const element = document.createElement(\"link\");\n",
       "      element.onload = on_load;\n",
       "      element.onerror = on_error;\n",
       "      element.rel = \"stylesheet\";\n",
       "      element.type = \"text/css\";\n",
       "      element.href = url;\n",
       "      console.debug(\"Bokeh: injecting link tag for BokehJS stylesheet: \", url);\n",
       "      document.body.appendChild(element);\n",
       "    }\n",
       "\n",
       "    var skip = [];\n",
       "    if (window.requirejs) {\n",
       "      window.requirejs.config({'packages': {}, 'paths': {'gridstack': 'https://cdn.jsdelivr.net/npm/gridstack@4.2.5/dist/gridstack-h5', 'notyf': 'https://cdn.jsdelivr.net/npm/notyf@3/notyf.min'}, 'shim': {'gridstack': {'exports': 'GridStack'}}});\n",
       "      require([\"gridstack\"], function(GridStack) {\n",
       "\twindow.GridStack = GridStack\n",
       "\ton_load()\n",
       "      })\n",
       "      require([\"notyf\"], function() {\n",
       "\ton_load()\n",
       "      })\n",
       "      root._bokeh_is_loading = css_urls.length + 2;\n",
       "    } else {\n",
       "      root._bokeh_is_loading = css_urls.length + js_urls.length + js_modules.length;\n",
       "    }    if (((window['GridStack'] !== undefined) && (!(window['GridStack'] instanceof HTMLElement))) || window.requirejs) {\n",
       "      var urls = ['https://cdn.jsdelivr.net/npm/gridstack@4.2.5/dist/gridstack-h5.js'];\n",
       "      for (var i = 0; i < urls.length; i++) {\n",
       "        skip.push(urls[i])\n",
       "      }\n",
       "    }    if (((window['Notyf'] !== undefined) && (!(window['Notyf'] instanceof HTMLElement))) || window.requirejs) {\n",
       "      var urls = ['https://cdn.jsdelivr.net/npm/notyf@3/notyf.min.js'];\n",
       "      for (var i = 0; i < urls.length; i++) {\n",
       "        skip.push(urls[i])\n",
       "      }\n",
       "    }    for (var i = 0; i < js_urls.length; i++) {\n",
       "      var url = js_urls[i];\n",
       "      if (skip.indexOf(url) >= 0) {\n",
       "\tif (!window.requirejs) {\n",
       "\t  on_load();\n",
       "\t}\n",
       "\tcontinue;\n",
       "      }\n",
       "      var element = document.createElement('script');\n",
       "      element.onload = on_load;\n",
       "      element.onerror = on_error;\n",
       "      element.async = false;\n",
       "      element.src = url;\n",
       "      console.debug(\"Bokeh: injecting script tag for BokehJS library: \", url);\n",
       "      document.head.appendChild(element);\n",
       "    }\n",
       "    for (var i = 0; i < js_modules.length; i++) {\n",
       "      var url = js_modules[i];\n",
       "      if (skip.indexOf(url) >= 0) {\n",
       "\tif (!window.requirejs) {\n",
       "\t  on_load();\n",
       "\t}\n",
       "\tcontinue;\n",
       "      }\n",
       "      var element = document.createElement('script');\n",
       "      element.onload = on_load;\n",
       "      element.onerror = on_error;\n",
       "      element.async = false;\n",
       "      element.src = url;\n",
       "      element.type = \"module\";\n",
       "      console.debug(\"Bokeh: injecting script tag for BokehJS library: \", url);\n",
       "      document.head.appendChild(element);\n",
       "    }\n",
       "    if (!js_urls.length && !js_modules.length) {\n",
       "      on_load()\n",
       "    }\n",
       "  };\n",
       "\n",
       "  function inject_raw_css(css) {\n",
       "    const element = document.createElement(\"style\");\n",
       "    element.appendChild(document.createTextNode(css));\n",
       "    document.body.appendChild(element);\n",
       "  }\n",
       "\n",
       "  var js_urls = [\"https://cdn.bokeh.org/bokeh/release/bokeh-2.4.3.min.js\", \"https://cdn.bokeh.org/bokeh/release/bokeh-gl-2.4.3.min.js\", \"https://cdn.bokeh.org/bokeh/release/bokeh-widgets-2.4.3.min.js\", \"https://cdn.bokeh.org/bokeh/release/bokeh-tables-2.4.3.min.js\", \"https://cdn.bokeh.org/bokeh/release/bokeh-mathjax-2.4.3.min.js\", \"https://cdn.jsdelivr.net/npm/notyf@3/notyf.min.js\", \"https://unpkg.com/@holoviz/panel@0.13.1/dist/panel.min.js\"];\n",
       "  var js_modules = [];\n",
       "  var css_urls = [\"https://cdn.jsdelivr.net/npm/notyf@3/notyf.min.css\", \"https://cdnjs.cloudflare.com/ajax/libs/font-awesome/5.15.1/css/all.min.css\", \"https://unpkg.com/@holoviz/panel@0.13.1/dist/css/debugger.css\", \"https://unpkg.com/@holoviz/panel@0.13.1/dist/css/json.css\", \"https://unpkg.com/@holoviz/panel@0.13.1/dist/css/loading.css\", \"https://unpkg.com/@holoviz/panel@0.13.1/dist/css/dataframe.css\", \"https://unpkg.com/@holoviz/panel@0.13.1/dist/css/card.css\", \"https://unpkg.com/@holoviz/panel@0.13.1/dist/css/widgets.css\", \"https://unpkg.com/@holoviz/panel@0.13.1/dist/css/alerts.css\", \"https://unpkg.com/@holoviz/panel@0.13.1/dist/css/markdown.css\"];\n",
       "  var inline_js = [    function(Bokeh) {\n",
       "      inject_raw_css(\"\\n    .bk.pn-loading.arcs:before {\\n      background-image: url(\\\"data:image/svg+xml;base64,PHN2ZyB4bWxucz0iaHR0cDovL3d3dy53My5vcmcvMjAwMC9zdmciIHhtbG5zOnhsaW5rPSJodHRwOi8vd3d3LnczLm9yZy8xOTk5L3hsaW5rIiBzdHlsZT0ibWFyZ2luOiBhdXRvOyBiYWNrZ3JvdW5kOiBub25lOyBkaXNwbGF5OiBibG9jazsgc2hhcGUtcmVuZGVyaW5nOiBhdXRvOyIgdmlld0JveD0iMCAwIDEwMCAxMDAiIHByZXNlcnZlQXNwZWN0UmF0aW89InhNaWRZTWlkIj4gIDxjaXJjbGUgY3g9IjUwIiBjeT0iNTAiIHI9IjMyIiBzdHJva2Utd2lkdGg9IjgiIHN0cm9rZT0iI2MzYzNjMyIgc3Ryb2tlLWRhc2hhcnJheT0iNTAuMjY1NDgyNDU3NDM2NjkgNTAuMjY1NDgyNDU3NDM2NjkiIGZpbGw9Im5vbmUiIHN0cm9rZS1saW5lY2FwPSJyb3VuZCI+ICAgIDxhbmltYXRlVHJhbnNmb3JtIGF0dHJpYnV0ZU5hbWU9InRyYW5zZm9ybSIgdHlwZT0icm90YXRlIiByZXBlYXRDb3VudD0iaW5kZWZpbml0ZSIgZHVyPSIxcyIga2V5VGltZXM9IjA7MSIgdmFsdWVzPSIwIDUwIDUwOzM2MCA1MCA1MCI+PC9hbmltYXRlVHJhbnNmb3JtPiAgPC9jaXJjbGU+PC9zdmc+\\\");\\n      background-size: auto calc(min(50%, 400px));\\n    }\\n    \");\n",
       "    },    function(Bokeh) {\n",
       "      Bokeh.set_log_level(\"info\");\n",
       "    },\n",
       "function(Bokeh) {} // ensure no trailing comma for IE\n",
       "  ];\n",
       "\n",
       "  function run_inline_js() {\n",
       "    if ((root.Bokeh !== undefined) || (force === true)) {\n",
       "      for (var i = 0; i < inline_js.length; i++) {\n",
       "        inline_js[i].call(root, root.Bokeh);\n",
       "      }} else if (Date.now() < root._bokeh_timeout) {\n",
       "      setTimeout(run_inline_js, 100);\n",
       "    } else if (!root._bokeh_failed_load) {\n",
       "      console.log(\"Bokeh: BokehJS failed to load within specified timeout.\");\n",
       "      root._bokeh_failed_load = true;\n",
       "    }\n",
       "  }\n",
       "\n",
       "  if (root._bokeh_is_loading === 0) {\n",
       "    console.debug(\"Bokeh: BokehJS loaded, going straight to plotting\");\n",
       "    run_inline_js();\n",
       "  } else {\n",
       "    load_libs(css_urls, js_urls, js_modules, function() {\n",
       "      console.debug(\"Bokeh: BokehJS plotting callback run at\", now());\n",
       "      run_inline_js();\n",
       "    });\n",
       "  }\n",
       "}(window));"
      ],
      "application/vnd.holoviews_load.v0+json": "(function(root) {\n  function now() {\n    return new Date();\n  }\n\n  var force = true;\n\n  if (typeof root._bokeh_onload_callbacks === \"undefined\" || force === true) {\n    root._bokeh_onload_callbacks = [];\n    root._bokeh_is_loading = undefined;\n  }\n\n  if (typeof (root._bokeh_timeout) === \"undefined\" || force === true) {\n    root._bokeh_timeout = Date.now() + 5000;\n    root._bokeh_failed_load = false;\n  }\n\n  function run_callbacks() {\n    try {\n      root._bokeh_onload_callbacks.forEach(function(callback) {\n        if (callback != null)\n          callback();\n      });\n    } finally {\n      delete root._bokeh_onload_callbacks\n    }\n    console.debug(\"Bokeh: all callbacks have finished\");\n  }\n\n  function load_libs(css_urls, js_urls, js_modules, callback) {\n    if (css_urls == null) css_urls = [];\n    if (js_urls == null) js_urls = [];\n    if (js_modules == null) js_modules = [];\n\n    root._bokeh_onload_callbacks.push(callback);\n    if (root._bokeh_is_loading > 0) {\n      console.debug(\"Bokeh: BokehJS is being loaded, scheduling callback at\", now());\n      return null;\n    }\n    if (js_urls.length === 0 && js_modules.length === 0) {\n      run_callbacks();\n      return null;\n    }\n    console.debug(\"Bokeh: BokehJS not loaded, scheduling load and callback at\", now());\n\n    function on_load() {\n      root._bokeh_is_loading--;\n      if (root._bokeh_is_loading === 0) {\n        console.debug(\"Bokeh: all BokehJS libraries/stylesheets loaded\");\n        run_callbacks()\n      }\n    }\n\n    function on_error() {\n      console.error(\"failed to load \" + url);\n    }\n\n    for (var i = 0; i < css_urls.length; i++) {\n      var url = css_urls[i];\n      const element = document.createElement(\"link\");\n      element.onload = on_load;\n      element.onerror = on_error;\n      element.rel = \"stylesheet\";\n      element.type = \"text/css\";\n      element.href = url;\n      console.debug(\"Bokeh: injecting link tag for BokehJS stylesheet: \", url);\n      document.body.appendChild(element);\n    }\n\n    var skip = [];\n    if (window.requirejs) {\n      window.requirejs.config({'packages': {}, 'paths': {'gridstack': 'https://cdn.jsdelivr.net/npm/gridstack@4.2.5/dist/gridstack-h5', 'notyf': 'https://cdn.jsdelivr.net/npm/notyf@3/notyf.min'}, 'shim': {'gridstack': {'exports': 'GridStack'}}});\n      require([\"gridstack\"], function(GridStack) {\n\twindow.GridStack = GridStack\n\ton_load()\n      })\n      require([\"notyf\"], function() {\n\ton_load()\n      })\n      root._bokeh_is_loading = css_urls.length + 2;\n    } else {\n      root._bokeh_is_loading = css_urls.length + js_urls.length + js_modules.length;\n    }    if (((window['GridStack'] !== undefined) && (!(window['GridStack'] instanceof HTMLElement))) || window.requirejs) {\n      var urls = ['https://cdn.jsdelivr.net/npm/gridstack@4.2.5/dist/gridstack-h5.js'];\n      for (var i = 0; i < urls.length; i++) {\n        skip.push(urls[i])\n      }\n    }    if (((window['Notyf'] !== undefined) && (!(window['Notyf'] instanceof HTMLElement))) || window.requirejs) {\n      var urls = ['https://cdn.jsdelivr.net/npm/notyf@3/notyf.min.js'];\n      for (var i = 0; i < urls.length; i++) {\n        skip.push(urls[i])\n      }\n    }    for (var i = 0; i < js_urls.length; i++) {\n      var url = js_urls[i];\n      if (skip.indexOf(url) >= 0) {\n\tif (!window.requirejs) {\n\t  on_load();\n\t}\n\tcontinue;\n      }\n      var element = document.createElement('script');\n      element.onload = on_load;\n      element.onerror = on_error;\n      element.async = false;\n      element.src = url;\n      console.debug(\"Bokeh: injecting script tag for BokehJS library: \", url);\n      document.head.appendChild(element);\n    }\n    for (var i = 0; i < js_modules.length; i++) {\n      var url = js_modules[i];\n      if (skip.indexOf(url) >= 0) {\n\tif (!window.requirejs) {\n\t  on_load();\n\t}\n\tcontinue;\n      }\n      var element = document.createElement('script');\n      element.onload = on_load;\n      element.onerror = on_error;\n      element.async = false;\n      element.src = url;\n      element.type = \"module\";\n      console.debug(\"Bokeh: injecting script tag for BokehJS library: \", url);\n      document.head.appendChild(element);\n    }\n    if (!js_urls.length && !js_modules.length) {\n      on_load()\n    }\n  };\n\n  function inject_raw_css(css) {\n    const element = document.createElement(\"style\");\n    element.appendChild(document.createTextNode(css));\n    document.body.appendChild(element);\n  }\n\n  var js_urls = [\"https://cdn.bokeh.org/bokeh/release/bokeh-2.4.3.min.js\", \"https://cdn.bokeh.org/bokeh/release/bokeh-gl-2.4.3.min.js\", \"https://cdn.bokeh.org/bokeh/release/bokeh-widgets-2.4.3.min.js\", \"https://cdn.bokeh.org/bokeh/release/bokeh-tables-2.4.3.min.js\", \"https://cdn.bokeh.org/bokeh/release/bokeh-mathjax-2.4.3.min.js\", \"https://cdn.jsdelivr.net/npm/notyf@3/notyf.min.js\", \"https://unpkg.com/@holoviz/panel@0.13.1/dist/panel.min.js\"];\n  var js_modules = [];\n  var css_urls = [\"https://cdn.jsdelivr.net/npm/notyf@3/notyf.min.css\", \"https://cdnjs.cloudflare.com/ajax/libs/font-awesome/5.15.1/css/all.min.css\", \"https://unpkg.com/@holoviz/panel@0.13.1/dist/css/debugger.css\", \"https://unpkg.com/@holoviz/panel@0.13.1/dist/css/json.css\", \"https://unpkg.com/@holoviz/panel@0.13.1/dist/css/loading.css\", \"https://unpkg.com/@holoviz/panel@0.13.1/dist/css/dataframe.css\", \"https://unpkg.com/@holoviz/panel@0.13.1/dist/css/card.css\", \"https://unpkg.com/@holoviz/panel@0.13.1/dist/css/widgets.css\", \"https://unpkg.com/@holoviz/panel@0.13.1/dist/css/alerts.css\", \"https://unpkg.com/@holoviz/panel@0.13.1/dist/css/markdown.css\"];\n  var inline_js = [    function(Bokeh) {\n      inject_raw_css(\"\\n    .bk.pn-loading.arcs:before {\\n      background-image: url(\\\"data:image/svg+xml;base64,PHN2ZyB4bWxucz0iaHR0cDovL3d3dy53My5vcmcvMjAwMC9zdmciIHhtbG5zOnhsaW5rPSJodHRwOi8vd3d3LnczLm9yZy8xOTk5L3hsaW5rIiBzdHlsZT0ibWFyZ2luOiBhdXRvOyBiYWNrZ3JvdW5kOiBub25lOyBkaXNwbGF5OiBibG9jazsgc2hhcGUtcmVuZGVyaW5nOiBhdXRvOyIgdmlld0JveD0iMCAwIDEwMCAxMDAiIHByZXNlcnZlQXNwZWN0UmF0aW89InhNaWRZTWlkIj4gIDxjaXJjbGUgY3g9IjUwIiBjeT0iNTAiIHI9IjMyIiBzdHJva2Utd2lkdGg9IjgiIHN0cm9rZT0iI2MzYzNjMyIgc3Ryb2tlLWRhc2hhcnJheT0iNTAuMjY1NDgyNDU3NDM2NjkgNTAuMjY1NDgyNDU3NDM2NjkiIGZpbGw9Im5vbmUiIHN0cm9rZS1saW5lY2FwPSJyb3VuZCI+ICAgIDxhbmltYXRlVHJhbnNmb3JtIGF0dHJpYnV0ZU5hbWU9InRyYW5zZm9ybSIgdHlwZT0icm90YXRlIiByZXBlYXRDb3VudD0iaW5kZWZpbml0ZSIgZHVyPSIxcyIga2V5VGltZXM9IjA7MSIgdmFsdWVzPSIwIDUwIDUwOzM2MCA1MCA1MCI+PC9hbmltYXRlVHJhbnNmb3JtPiAgPC9jaXJjbGU+PC9zdmc+\\\");\\n      background-size: auto calc(min(50%, 400px));\\n    }\\n    \");\n    },    function(Bokeh) {\n      Bokeh.set_log_level(\"info\");\n    },\nfunction(Bokeh) {} // ensure no trailing comma for IE\n  ];\n\n  function run_inline_js() {\n    if ((root.Bokeh !== undefined) || (force === true)) {\n      for (var i = 0; i < inline_js.length; i++) {\n        inline_js[i].call(root, root.Bokeh);\n      }} else if (Date.now() < root._bokeh_timeout) {\n      setTimeout(run_inline_js, 100);\n    } else if (!root._bokeh_failed_load) {\n      console.log(\"Bokeh: BokehJS failed to load within specified timeout.\");\n      root._bokeh_failed_load = true;\n    }\n  }\n\n  if (root._bokeh_is_loading === 0) {\n    console.debug(\"Bokeh: BokehJS loaded, going straight to plotting\");\n    run_inline_js();\n  } else {\n    load_libs(css_urls, js_urls, js_modules, function() {\n      console.debug(\"Bokeh: BokehJS plotting callback run at\", now());\n      run_inline_js();\n    });\n  }\n}(window));"
     },
     "metadata": {},
     "output_type": "display_data"
    },
    {
     "data": {
      "application/javascript": [
       "\n",
       "if ((window.PyViz === undefined) || (window.PyViz instanceof HTMLElement)) {\n",
       "  window.PyViz = {comms: {}, comm_status:{}, kernels:{}, receivers: {}, plot_index: []}\n",
       "}\n",
       "\n",
       "\n",
       "    function JupyterCommManager() {\n",
       "    }\n",
       "\n",
       "    JupyterCommManager.prototype.register_target = function(plot_id, comm_id, msg_handler) {\n",
       "      if (window.comm_manager || ((window.Jupyter !== undefined) && (Jupyter.notebook.kernel != null))) {\n",
       "        var comm_manager = window.comm_manager || Jupyter.notebook.kernel.comm_manager;\n",
       "        comm_manager.register_target(comm_id, function(comm) {\n",
       "          comm.on_msg(msg_handler);\n",
       "        });\n",
       "      } else if ((plot_id in window.PyViz.kernels) && (window.PyViz.kernels[plot_id])) {\n",
       "        window.PyViz.kernels[plot_id].registerCommTarget(comm_id, function(comm) {\n",
       "          comm.onMsg = msg_handler;\n",
       "        });\n",
       "      } else if (typeof google != 'undefined' && google.colab.kernel != null) {\n",
       "        google.colab.kernel.comms.registerTarget(comm_id, (comm) => {\n",
       "          var messages = comm.messages[Symbol.asyncIterator]();\n",
       "          function processIteratorResult(result) {\n",
       "            var message = result.value;\n",
       "            console.log(message)\n",
       "            var content = {data: message.data, comm_id};\n",
       "            var buffers = []\n",
       "            for (var buffer of message.buffers || []) {\n",
       "              buffers.push(new DataView(buffer))\n",
       "            }\n",
       "            var metadata = message.metadata || {};\n",
       "            var msg = {content, buffers, metadata}\n",
       "            msg_handler(msg);\n",
       "            return messages.next().then(processIteratorResult);\n",
       "          }\n",
       "          return messages.next().then(processIteratorResult);\n",
       "        })\n",
       "      }\n",
       "    }\n",
       "\n",
       "    JupyterCommManager.prototype.get_client_comm = function(plot_id, comm_id, msg_handler) {\n",
       "      if (comm_id in window.PyViz.comms) {\n",
       "        return window.PyViz.comms[comm_id];\n",
       "      } else if (window.comm_manager || ((window.Jupyter !== undefined) && (Jupyter.notebook.kernel != null))) {\n",
       "        var comm_manager = window.comm_manager || Jupyter.notebook.kernel.comm_manager;\n",
       "        var comm = comm_manager.new_comm(comm_id, {}, {}, {}, comm_id);\n",
       "        if (msg_handler) {\n",
       "          comm.on_msg(msg_handler);\n",
       "        }\n",
       "      } else if ((plot_id in window.PyViz.kernels) && (window.PyViz.kernels[plot_id])) {\n",
       "        var comm = window.PyViz.kernels[plot_id].connectToComm(comm_id);\n",
       "        comm.open();\n",
       "        if (msg_handler) {\n",
       "          comm.onMsg = msg_handler;\n",
       "        }\n",
       "      } else if (typeof google != 'undefined' && google.colab.kernel != null) {\n",
       "        var comm_promise = google.colab.kernel.comms.open(comm_id)\n",
       "        comm_promise.then((comm) => {\n",
       "          window.PyViz.comms[comm_id] = comm;\n",
       "          if (msg_handler) {\n",
       "            var messages = comm.messages[Symbol.asyncIterator]();\n",
       "            function processIteratorResult(result) {\n",
       "              var message = result.value;\n",
       "              var content = {data: message.data};\n",
       "              var metadata = message.metadata || {comm_id};\n",
       "              var msg = {content, metadata}\n",
       "              msg_handler(msg);\n",
       "              return messages.next().then(processIteratorResult);\n",
       "            }\n",
       "            return messages.next().then(processIteratorResult);\n",
       "          }\n",
       "        }) \n",
       "        var sendClosure = (data, metadata, buffers, disposeOnDone) => {\n",
       "          return comm_promise.then((comm) => {\n",
       "            comm.send(data, metadata, buffers, disposeOnDone);\n",
       "          });\n",
       "        };\n",
       "        var comm = {\n",
       "          send: sendClosure\n",
       "        };\n",
       "      }\n",
       "      window.PyViz.comms[comm_id] = comm;\n",
       "      return comm;\n",
       "    }\n",
       "    window.PyViz.comm_manager = new JupyterCommManager();\n",
       "    \n",
       "\n",
       "\n",
       "var JS_MIME_TYPE = 'application/javascript';\n",
       "var HTML_MIME_TYPE = 'text/html';\n",
       "var EXEC_MIME_TYPE = 'application/vnd.holoviews_exec.v0+json';\n",
       "var CLASS_NAME = 'output';\n",
       "\n",
       "/**\n",
       " * Render data to the DOM node\n",
       " */\n",
       "function render(props, node) {\n",
       "  var div = document.createElement(\"div\");\n",
       "  var script = document.createElement(\"script\");\n",
       "  node.appendChild(div);\n",
       "  node.appendChild(script);\n",
       "}\n",
       "\n",
       "/**\n",
       " * Handle when a new output is added\n",
       " */\n",
       "function handle_add_output(event, handle) {\n",
       "  var output_area = handle.output_area;\n",
       "  var output = handle.output;\n",
       "  if ((output.data == undefined) || (!output.data.hasOwnProperty(EXEC_MIME_TYPE))) {\n",
       "    return\n",
       "  }\n",
       "  var id = output.metadata[EXEC_MIME_TYPE][\"id\"];\n",
       "  var toinsert = output_area.element.find(\".\" + CLASS_NAME.split(' ')[0]);\n",
       "  if (id !== undefined) {\n",
       "    var nchildren = toinsert.length;\n",
       "    var html_node = toinsert[nchildren-1].children[0];\n",
       "    html_node.innerHTML = output.data[HTML_MIME_TYPE];\n",
       "    var scripts = [];\n",
       "    var nodelist = html_node.querySelectorAll(\"script\");\n",
       "    for (var i in nodelist) {\n",
       "      if (nodelist.hasOwnProperty(i)) {\n",
       "        scripts.push(nodelist[i])\n",
       "      }\n",
       "    }\n",
       "\n",
       "    scripts.forEach( function (oldScript) {\n",
       "      var newScript = document.createElement(\"script\");\n",
       "      var attrs = [];\n",
       "      var nodemap = oldScript.attributes;\n",
       "      for (var j in nodemap) {\n",
       "        if (nodemap.hasOwnProperty(j)) {\n",
       "          attrs.push(nodemap[j])\n",
       "        }\n",
       "      }\n",
       "      attrs.forEach(function(attr) { newScript.setAttribute(attr.name, attr.value) });\n",
       "      newScript.appendChild(document.createTextNode(oldScript.innerHTML));\n",
       "      oldScript.parentNode.replaceChild(newScript, oldScript);\n",
       "    });\n",
       "    if (JS_MIME_TYPE in output.data) {\n",
       "      toinsert[nchildren-1].children[1].textContent = output.data[JS_MIME_TYPE];\n",
       "    }\n",
       "    output_area._hv_plot_id = id;\n",
       "    if ((window.Bokeh !== undefined) && (id in Bokeh.index)) {\n",
       "      window.PyViz.plot_index[id] = Bokeh.index[id];\n",
       "    } else {\n",
       "      window.PyViz.plot_index[id] = null;\n",
       "    }\n",
       "  } else if (output.metadata[EXEC_MIME_TYPE][\"server_id\"] !== undefined) {\n",
       "    var bk_div = document.createElement(\"div\");\n",
       "    bk_div.innerHTML = output.data[HTML_MIME_TYPE];\n",
       "    var script_attrs = bk_div.children[0].attributes;\n",
       "    for (var i = 0; i < script_attrs.length; i++) {\n",
       "      toinsert[toinsert.length - 1].childNodes[1].setAttribute(script_attrs[i].name, script_attrs[i].value);\n",
       "    }\n",
       "    // store reference to server id on output_area\n",
       "    output_area._bokeh_server_id = output.metadata[EXEC_MIME_TYPE][\"server_id\"];\n",
       "  }\n",
       "}\n",
       "\n",
       "/**\n",
       " * Handle when an output is cleared or removed\n",
       " */\n",
       "function handle_clear_output(event, handle) {\n",
       "  var id = handle.cell.output_area._hv_plot_id;\n",
       "  var server_id = handle.cell.output_area._bokeh_server_id;\n",
       "  if (((id === undefined) || !(id in PyViz.plot_index)) && (server_id !== undefined)) { return; }\n",
       "  var comm = window.PyViz.comm_manager.get_client_comm(\"hv-extension-comm\", \"hv-extension-comm\", function () {});\n",
       "  if (server_id !== null) {\n",
       "    comm.send({event_type: 'server_delete', 'id': server_id});\n",
       "    return;\n",
       "  } else if (comm !== null) {\n",
       "    comm.send({event_type: 'delete', 'id': id});\n",
       "  }\n",
       "  delete PyViz.plot_index[id];\n",
       "  if ((window.Bokeh !== undefined) & (id in window.Bokeh.index)) {\n",
       "    var doc = window.Bokeh.index[id].model.document\n",
       "    doc.clear();\n",
       "    const i = window.Bokeh.documents.indexOf(doc);\n",
       "    if (i > -1) {\n",
       "      window.Bokeh.documents.splice(i, 1);\n",
       "    }\n",
       "  }\n",
       "}\n",
       "\n",
       "/**\n",
       " * Handle kernel restart event\n",
       " */\n",
       "function handle_kernel_cleanup(event, handle) {\n",
       "  delete PyViz.comms[\"hv-extension-comm\"];\n",
       "  window.PyViz.plot_index = {}\n",
       "}\n",
       "\n",
       "/**\n",
       " * Handle update_display_data messages\n",
       " */\n",
       "function handle_update_output(event, handle) {\n",
       "  handle_clear_output(event, {cell: {output_area: handle.output_area}})\n",
       "  handle_add_output(event, handle)\n",
       "}\n",
       "\n",
       "function register_renderer(events, OutputArea) {\n",
       "  function append_mime(data, metadata, element) {\n",
       "    // create a DOM node to render to\n",
       "    var toinsert = this.create_output_subarea(\n",
       "    metadata,\n",
       "    CLASS_NAME,\n",
       "    EXEC_MIME_TYPE\n",
       "    );\n",
       "    this.keyboard_manager.register_events(toinsert);\n",
       "    // Render to node\n",
       "    var props = {data: data, metadata: metadata[EXEC_MIME_TYPE]};\n",
       "    render(props, toinsert[0]);\n",
       "    element.append(toinsert);\n",
       "    return toinsert\n",
       "  }\n",
       "\n",
       "  events.on('output_added.OutputArea', handle_add_output);\n",
       "  events.on('output_updated.OutputArea', handle_update_output);\n",
       "  events.on('clear_output.CodeCell', handle_clear_output);\n",
       "  events.on('delete.Cell', handle_clear_output);\n",
       "  events.on('kernel_ready.Kernel', handle_kernel_cleanup);\n",
       "\n",
       "  OutputArea.prototype.register_mime_type(EXEC_MIME_TYPE, append_mime, {\n",
       "    safe: true,\n",
       "    index: 0\n",
       "  });\n",
       "}\n",
       "\n",
       "if (window.Jupyter !== undefined) {\n",
       "  try {\n",
       "    var events = require('base/js/events');\n",
       "    var OutputArea = require('notebook/js/outputarea').OutputArea;\n",
       "    if (OutputArea.prototype.mime_types().indexOf(EXEC_MIME_TYPE) == -1) {\n",
       "      register_renderer(events, OutputArea);\n",
       "    }\n",
       "  } catch(err) {\n",
       "  }\n",
       "}\n"
      ],
      "application/vnd.holoviews_load.v0+json": "\nif ((window.PyViz === undefined) || (window.PyViz instanceof HTMLElement)) {\n  window.PyViz = {comms: {}, comm_status:{}, kernels:{}, receivers: {}, plot_index: []}\n}\n\n\n    function JupyterCommManager() {\n    }\n\n    JupyterCommManager.prototype.register_target = function(plot_id, comm_id, msg_handler) {\n      if (window.comm_manager || ((window.Jupyter !== undefined) && (Jupyter.notebook.kernel != null))) {\n        var comm_manager = window.comm_manager || Jupyter.notebook.kernel.comm_manager;\n        comm_manager.register_target(comm_id, function(comm) {\n          comm.on_msg(msg_handler);\n        });\n      } else if ((plot_id in window.PyViz.kernels) && (window.PyViz.kernels[plot_id])) {\n        window.PyViz.kernels[plot_id].registerCommTarget(comm_id, function(comm) {\n          comm.onMsg = msg_handler;\n        });\n      } else if (typeof google != 'undefined' && google.colab.kernel != null) {\n        google.colab.kernel.comms.registerTarget(comm_id, (comm) => {\n          var messages = comm.messages[Symbol.asyncIterator]();\n          function processIteratorResult(result) {\n            var message = result.value;\n            console.log(message)\n            var content = {data: message.data, comm_id};\n            var buffers = []\n            for (var buffer of message.buffers || []) {\n              buffers.push(new DataView(buffer))\n            }\n            var metadata = message.metadata || {};\n            var msg = {content, buffers, metadata}\n            msg_handler(msg);\n            return messages.next().then(processIteratorResult);\n          }\n          return messages.next().then(processIteratorResult);\n        })\n      }\n    }\n\n    JupyterCommManager.prototype.get_client_comm = function(plot_id, comm_id, msg_handler) {\n      if (comm_id in window.PyViz.comms) {\n        return window.PyViz.comms[comm_id];\n      } else if (window.comm_manager || ((window.Jupyter !== undefined) && (Jupyter.notebook.kernel != null))) {\n        var comm_manager = window.comm_manager || Jupyter.notebook.kernel.comm_manager;\n        var comm = comm_manager.new_comm(comm_id, {}, {}, {}, comm_id);\n        if (msg_handler) {\n          comm.on_msg(msg_handler);\n        }\n      } else if ((plot_id in window.PyViz.kernels) && (window.PyViz.kernels[plot_id])) {\n        var comm = window.PyViz.kernels[plot_id].connectToComm(comm_id);\n        comm.open();\n        if (msg_handler) {\n          comm.onMsg = msg_handler;\n        }\n      } else if (typeof google != 'undefined' && google.colab.kernel != null) {\n        var comm_promise = google.colab.kernel.comms.open(comm_id)\n        comm_promise.then((comm) => {\n          window.PyViz.comms[comm_id] = comm;\n          if (msg_handler) {\n            var messages = comm.messages[Symbol.asyncIterator]();\n            function processIteratorResult(result) {\n              var message = result.value;\n              var content = {data: message.data};\n              var metadata = message.metadata || {comm_id};\n              var msg = {content, metadata}\n              msg_handler(msg);\n              return messages.next().then(processIteratorResult);\n            }\n            return messages.next().then(processIteratorResult);\n          }\n        }) \n        var sendClosure = (data, metadata, buffers, disposeOnDone) => {\n          return comm_promise.then((comm) => {\n            comm.send(data, metadata, buffers, disposeOnDone);\n          });\n        };\n        var comm = {\n          send: sendClosure\n        };\n      }\n      window.PyViz.comms[comm_id] = comm;\n      return comm;\n    }\n    window.PyViz.comm_manager = new JupyterCommManager();\n    \n\n\nvar JS_MIME_TYPE = 'application/javascript';\nvar HTML_MIME_TYPE = 'text/html';\nvar EXEC_MIME_TYPE = 'application/vnd.holoviews_exec.v0+json';\nvar CLASS_NAME = 'output';\n\n/**\n * Render data to the DOM node\n */\nfunction render(props, node) {\n  var div = document.createElement(\"div\");\n  var script = document.createElement(\"script\");\n  node.appendChild(div);\n  node.appendChild(script);\n}\n\n/**\n * Handle when a new output is added\n */\nfunction handle_add_output(event, handle) {\n  var output_area = handle.output_area;\n  var output = handle.output;\n  if ((output.data == undefined) || (!output.data.hasOwnProperty(EXEC_MIME_TYPE))) {\n    return\n  }\n  var id = output.metadata[EXEC_MIME_TYPE][\"id\"];\n  var toinsert = output_area.element.find(\".\" + CLASS_NAME.split(' ')[0]);\n  if (id !== undefined) {\n    var nchildren = toinsert.length;\n    var html_node = toinsert[nchildren-1].children[0];\n    html_node.innerHTML = output.data[HTML_MIME_TYPE];\n    var scripts = [];\n    var nodelist = html_node.querySelectorAll(\"script\");\n    for (var i in nodelist) {\n      if (nodelist.hasOwnProperty(i)) {\n        scripts.push(nodelist[i])\n      }\n    }\n\n    scripts.forEach( function (oldScript) {\n      var newScript = document.createElement(\"script\");\n      var attrs = [];\n      var nodemap = oldScript.attributes;\n      for (var j in nodemap) {\n        if (nodemap.hasOwnProperty(j)) {\n          attrs.push(nodemap[j])\n        }\n      }\n      attrs.forEach(function(attr) { newScript.setAttribute(attr.name, attr.value) });\n      newScript.appendChild(document.createTextNode(oldScript.innerHTML));\n      oldScript.parentNode.replaceChild(newScript, oldScript);\n    });\n    if (JS_MIME_TYPE in output.data) {\n      toinsert[nchildren-1].children[1].textContent = output.data[JS_MIME_TYPE];\n    }\n    output_area._hv_plot_id = id;\n    if ((window.Bokeh !== undefined) && (id in Bokeh.index)) {\n      window.PyViz.plot_index[id] = Bokeh.index[id];\n    } else {\n      window.PyViz.plot_index[id] = null;\n    }\n  } else if (output.metadata[EXEC_MIME_TYPE][\"server_id\"] !== undefined) {\n    var bk_div = document.createElement(\"div\");\n    bk_div.innerHTML = output.data[HTML_MIME_TYPE];\n    var script_attrs = bk_div.children[0].attributes;\n    for (var i = 0; i < script_attrs.length; i++) {\n      toinsert[toinsert.length - 1].childNodes[1].setAttribute(script_attrs[i].name, script_attrs[i].value);\n    }\n    // store reference to server id on output_area\n    output_area._bokeh_server_id = output.metadata[EXEC_MIME_TYPE][\"server_id\"];\n  }\n}\n\n/**\n * Handle when an output is cleared or removed\n */\nfunction handle_clear_output(event, handle) {\n  var id = handle.cell.output_area._hv_plot_id;\n  var server_id = handle.cell.output_area._bokeh_server_id;\n  if (((id === undefined) || !(id in PyViz.plot_index)) && (server_id !== undefined)) { return; }\n  var comm = window.PyViz.comm_manager.get_client_comm(\"hv-extension-comm\", \"hv-extension-comm\", function () {});\n  if (server_id !== null) {\n    comm.send({event_type: 'server_delete', 'id': server_id});\n    return;\n  } else if (comm !== null) {\n    comm.send({event_type: 'delete', 'id': id});\n  }\n  delete PyViz.plot_index[id];\n  if ((window.Bokeh !== undefined) & (id in window.Bokeh.index)) {\n    var doc = window.Bokeh.index[id].model.document\n    doc.clear();\n    const i = window.Bokeh.documents.indexOf(doc);\n    if (i > -1) {\n      window.Bokeh.documents.splice(i, 1);\n    }\n  }\n}\n\n/**\n * Handle kernel restart event\n */\nfunction handle_kernel_cleanup(event, handle) {\n  delete PyViz.comms[\"hv-extension-comm\"];\n  window.PyViz.plot_index = {}\n}\n\n/**\n * Handle update_display_data messages\n */\nfunction handle_update_output(event, handle) {\n  handle_clear_output(event, {cell: {output_area: handle.output_area}})\n  handle_add_output(event, handle)\n}\n\nfunction register_renderer(events, OutputArea) {\n  function append_mime(data, metadata, element) {\n    // create a DOM node to render to\n    var toinsert = this.create_output_subarea(\n    metadata,\n    CLASS_NAME,\n    EXEC_MIME_TYPE\n    );\n    this.keyboard_manager.register_events(toinsert);\n    // Render to node\n    var props = {data: data, metadata: metadata[EXEC_MIME_TYPE]};\n    render(props, toinsert[0]);\n    element.append(toinsert);\n    return toinsert\n  }\n\n  events.on('output_added.OutputArea', handle_add_output);\n  events.on('output_updated.OutputArea', handle_update_output);\n  events.on('clear_output.CodeCell', handle_clear_output);\n  events.on('delete.Cell', handle_clear_output);\n  events.on('kernel_ready.Kernel', handle_kernel_cleanup);\n\n  OutputArea.prototype.register_mime_type(EXEC_MIME_TYPE, append_mime, {\n    safe: true,\n    index: 0\n  });\n}\n\nif (window.Jupyter !== undefined) {\n  try {\n    var events = require('base/js/events');\n    var OutputArea = require('notebook/js/outputarea').OutputArea;\n    if (OutputArea.prototype.mime_types().indexOf(EXEC_MIME_TYPE) == -1) {\n      register_renderer(events, OutputArea);\n    }\n  } catch(err) {\n  }\n}\n"
     },
     "metadata": {},
     "output_type": "display_data"
    },
    {
     "data": {
      "text/html": [
       "<style>.bk-root, .bk-root .bk:before, .bk-root .bk:after {\n",
       "  font-family: var(--jp-ui-font-size1);\n",
       "  font-size: var(--jp-ui-font-size1);\n",
       "  color: var(--jp-ui-font-color1);\n",
       "}\n",
       "</style>"
      ]
     },
     "metadata": {},
     "output_type": "display_data"
    }
   ],
   "source": [
    "import panel as pn\n",
    "pn.extension()\n",
    "\n",
    "window = pn.widgets.IntSlider(name='window', value=30, start=1, end=60)\n",
    "sigma = pn.widgets.IntSlider(name='sigma', value=10, start=0, end=20)\n",
    "\n",
    "interactive = pn.bind(find_outliers, window=window, sigma=sigma)"
   ]
  },
  {
   "cell_type": "code",
   "execution_count": 110,
   "id": "96fcb419-d999-4b36-9cac-c005378af3ec",
   "metadata": {
    "extensions": {
     "jupyter_dashboards": {
      "activeView": "grid_default",
      "views": {
       "grid_default": {
        "col": null,
        "height": 2,
        "hidden": true,
        "locked": true,
        "row": null,
        "width": 2
       }
      }
     }
    }
   },
   "outputs": [
    {
     "data": {},
     "metadata": {},
     "output_type": "display_data"
    },
    {
     "data": {
      "application/vnd.holoviews_exec.v0+json": "",
      "text/html": [
       "<div id='1039'>\n",
       "  <div class=\"bk-root\" id=\"ad190eb5-0094-4cf3-9799-b5f4d864f586\" data-root-id=\"1039\"></div>\n",
       "</div>\n",
       "<script type=\"application/javascript\">(function(root) {\n",
       "  function embed_document(root) {\n",
       "    var docs_json = {\"453f509f-99d5-499e-8d9e-a22d0430f54a\":{\"defs\":[{\"extends\":null,\"module\":null,\"name\":\"ReactiveHTML1\",\"overrides\":[],\"properties\":[]},{\"extends\":null,\"module\":null,\"name\":\"FlexBox1\",\"overrides\":[],\"properties\":[{\"default\":\"flex-start\",\"kind\":null,\"name\":\"align_content\"},{\"default\":\"flex-start\",\"kind\":null,\"name\":\"align_items\"},{\"default\":\"row\",\"kind\":null,\"name\":\"flex_direction\"},{\"default\":\"wrap\",\"kind\":null,\"name\":\"flex_wrap\"},{\"default\":\"flex-start\",\"kind\":null,\"name\":\"justify_content\"}]},{\"extends\":null,\"module\":null,\"name\":\"GridStack1\",\"overrides\":[],\"properties\":[{\"default\":\"warn\",\"kind\":null,\"name\":\"mode\"},{\"default\":null,\"kind\":null,\"name\":\"ncols\"},{\"default\":null,\"kind\":null,\"name\":\"nrows\"},{\"default\":true,\"kind\":null,\"name\":\"allow_resize\"},{\"default\":true,\"kind\":null,\"name\":\"allow_drag\"},{\"default\":[],\"kind\":null,\"name\":\"state\"}]},{\"extends\":null,\"module\":null,\"name\":\"click1\",\"overrides\":[],\"properties\":[{\"default\":\"\",\"kind\":null,\"name\":\"terminal_output\"},{\"default\":\"\",\"kind\":null,\"name\":\"debug_name\"},{\"default\":0,\"kind\":null,\"name\":\"clears\"}]},{\"extends\":null,\"module\":null,\"name\":\"NotificationAreaBase1\",\"overrides\":[],\"properties\":[{\"default\":\"bottom-right\",\"kind\":null,\"name\":\"position\"},{\"default\":0,\"kind\":null,\"name\":\"_clear\"}]},{\"extends\":null,\"module\":null,\"name\":\"NotificationArea1\",\"overrides\":[],\"properties\":[{\"default\":[],\"kind\":null,\"name\":\"notifications\"},{\"default\":\"bottom-right\",\"kind\":null,\"name\":\"position\"},{\"default\":0,\"kind\":null,\"name\":\"_clear\"},{\"default\":[{\"background\":\"#ffc107\",\"icon\":{\"className\":\"fas fa-exclamation-triangle\",\"color\":\"white\",\"tagName\":\"i\"},\"type\":\"warning\"},{\"background\":\"#007bff\",\"icon\":{\"className\":\"fas fa-info-circle\",\"color\":\"white\",\"tagName\":\"i\"},\"type\":\"info\"}],\"kind\":null,\"name\":\"types\"}]},{\"extends\":null,\"module\":null,\"name\":\"Notification\",\"overrides\":[],\"properties\":[{\"default\":null,\"kind\":null,\"name\":\"background\"},{\"default\":3000,\"kind\":null,\"name\":\"duration\"},{\"default\":null,\"kind\":null,\"name\":\"icon\"},{\"default\":\"\",\"kind\":null,\"name\":\"message\"},{\"default\":null,\"kind\":null,\"name\":\"notification_type\"},{\"default\":false,\"kind\":null,\"name\":\"_destroyed\"}]},{\"extends\":null,\"module\":null,\"name\":\"TemplateActions1\",\"overrides\":[],\"properties\":[{\"default\":0,\"kind\":null,\"name\":\"open_modal\"},{\"default\":0,\"kind\":null,\"name\":\"close_modal\"}]},{\"extends\":null,\"module\":null,\"name\":\"MaterialTemplateActions1\",\"overrides\":[],\"properties\":[{\"default\":0,\"kind\":null,\"name\":\"open_modal\"},{\"default\":0,\"kind\":null,\"name\":\"close_modal\"}]}],\"roots\":{\"references\":[{\"attributes\":{\"height\":691,\"margin\":[5,5,5,5],\"name\":\"ParamFunction00182\",\"text\":\"&lt;img src=&quot;data:image/png;base64,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&quot; width=&quot;921px&quot; height=&quot;691px&quot; alt=&quot;&quot;&gt;&lt;/img&gt;\",\"width\":921},\"id\":\"1043\",\"type\":\"panel.models.markup.HTML\"},{\"attributes\":{\"end\":20,\"margin\":[5,10,5,10],\"start\":0,\"title\":\"sigma\",\"value\":10},\"id\":\"1041\",\"type\":\"Slider\"},{\"attributes\":{\"children\":[{\"id\":\"1040\"},{\"id\":\"1041\"},{\"id\":\"1042\"}],\"margin\":[0,0,0,0],\"name\":\"Column00189\"},\"id\":\"1039\",\"type\":\"Column\"},{\"attributes\":{\"children\":[{\"id\":\"1043\"}],\"margin\":[0,0,0,0],\"name\":\"Row00186\"},\"id\":\"1042\",\"type\":\"Row\"},{\"attributes\":{\"client_comm_id\":\"57d6cb91469c4f71a8a20d81412ab5fd\",\"comm_id\":\"bc83b4b469d84a8ea80e96fa133f4d3b\",\"plot_id\":\"1039\"},\"id\":\"1044\",\"type\":\"panel.models.comm_manager.CommManager\"},{\"attributes\":{\"end\":60,\"margin\":[5,10,5,10],\"start\":1,\"title\":\"window\",\"value\":30},\"id\":\"1040\",\"type\":\"Slider\"}],\"root_ids\":[\"1039\",\"1044\"]},\"title\":\"Bokeh Application\",\"version\":\"2.4.3\"}};\n",
       "    var render_items = [{\"docid\":\"453f509f-99d5-499e-8d9e-a22d0430f54a\",\"root_ids\":[\"1039\"],\"roots\":{\"1039\":\"ad190eb5-0094-4cf3-9799-b5f4d864f586\"}}];\n",
       "    root.Bokeh.embed.embed_items_notebook(docs_json, render_items);\n",
       "  }\n",
       "  if (root.Bokeh !== undefined && root.Bokeh.Panel !== undefined) {\n",
       "    embed_document(root);\n",
       "  } else {\n",
       "    var attempts = 0;\n",
       "    var timer = setInterval(function(root) {\n",
       "      if (root.Bokeh !== undefined && root.Bokeh.Panel !== undefined) {\n",
       "        clearInterval(timer);\n",
       "        embed_document(root);\n",
       "      } else if (document.readyState == \"complete\") {\n",
       "        attempts++;\n",
       "        if (attempts > 200) {\n",
       "          clearInterval(timer);\n",
       "          console.log(\"Bokeh: ERROR: Unable to run BokehJS code because BokehJS library is missing\");\n",
       "        }\n",
       "      }\n",
       "    }, 25, root)\n",
       "  }\n",
       "})(window);</script>"
      ],
      "text/plain": [
       "Column\n",
       "    [0] IntSlider(end=60, name='window', start=1, value=30)\n",
       "    [1] IntSlider(end=20, name='sigma', value=10)\n",
       "    [2] ParamFunction(function)"
      ]
     },
     "execution_count": 110,
     "metadata": {
      "application/vnd.holoviews_exec.v0+json": {
       "id": "1039"
      }
     },
     "output_type": "execute_result"
    }
   ],
   "source": [
    "first_app = pn.Column(window, sigma, interactive)\n",
    "\n",
    "first_app"
   ]
  },
  {
   "cell_type": "code",
   "execution_count": 111,
   "id": "0f8fc31b-b571-439b-b68b-380f96a7117b",
   "metadata": {
    "extensions": {
     "jupyter_dashboards": {
      "activeView": "grid_default",
      "views": {
       "grid_default": {
        "col": null,
        "height": 2,
        "hidden": true,
        "locked": true,
        "row": null,
        "width": 2
       }
      }
     }
    }
   },
   "outputs": [],
   "source": [
    "first_app.servable();"
   ]
  },
  {
   "cell_type": "code",
   "execution_count": 112,
   "id": "7cc798da-52c0-4547-a562-175acbbec311",
   "metadata": {
    "extensions": {
     "jupyter_dashboards": {
      "activeView": "grid_default",
      "views": {
       "grid_default": {
        "col": null,
        "height": 2,
        "hidden": true,
        "locked": true,
        "row": null,
        "width": 2
       }
      }
     }
    }
   },
   "outputs": [
    {
     "name": "stdout",
     "output_type": "stream",
     "text": [
      "Launching server at http://localhost:38565\n"
     ]
    },
    {
     "data": {
      "text/plain": [
       "<bokeh.server.server.Server at 0x7f57f543dc40>"
      ]
     },
     "execution_count": 112,
     "metadata": {},
     "output_type": "execute_result"
    }
   ],
   "source": [
    "first_app.show()"
   ]
  },
  {
   "cell_type": "code",
   "execution_count": 113,
   "id": "54026b3e-517a-4c3b-abd3-801049d7091d",
   "metadata": {
    "extensions": {
     "jupyter_dashboards": {
      "activeView": "grid_default",
      "views": {
       "grid_default": {
        "col": null,
        "height": 2,
        "hidden": true,
        "locked": true,
        "row": null,
        "width": 2
       }
      }
     }
    }
   },
   "outputs": [
    {
     "name": "stderr",
     "output_type": "stream",
     "text": [
      "/usr/bin/xdg-open: 869: x-www-browser: not found\n",
      "/usr/bin/xdg-open: 869: firefox: not found\n",
      "/usr/bin/xdg-open: 869: iceweasel: not found\n",
      "/usr/bin/xdg-open: 869: seamonkey: not found\n",
      "/usr/bin/xdg-open: 869: mozilla: not found\n",
      "/usr/bin/xdg-open: 869: epiphany: not found\n",
      "/usr/bin/xdg-open: 869: konqueror: not found\n",
      "/usr/bin/xdg-open: 869: chromium: not found\n",
      "/usr/bin/xdg-open: 869: chromium-browser: not found\n",
      "/usr/bin/xdg-open: 869: google-chrome: not found\n",
      "/usr/bin/xdg-open: 869: www-browser: not found\n",
      "/usr/bin/xdg-open: 869: links2: not found\n",
      "/usr/bin/xdg-open: 869: elinks: not found\n",
      "/usr/bin/xdg-open: 869: links: not found\n",
      "/usr/bin/xdg-open: 869: lynx: not found\n",
      "/usr/bin/xdg-open: 869: w3m: not found\n",
      "xdg-open: no method available for opening 'http://localhost:38565/'\n"
     ]
    },
    {
     "name": "stdout",
     "output_type": "stream",
     "text": [
      "Enabling: panel.io.jupyter_server_extension\n",
      "- Writing config: /home/jovyan/.jupyter\n",
      "Traceback (most recent call last):\n",
      "  File \"/opt/conda/bin/jupyter-serverextension\", line 10, in <module>\n",
      "    sys.exit(main())\n",
      "  File \"/opt/conda/lib/python3.9/site-packages/jupyter_core/application.py\", line 269, in launch_instance\n",
      "    return super().launch_instance(argv=argv, **kwargs)\n",
      "  File \"/opt/conda/lib/python3.9/site-packages/traitlets/config/application.py\", line 846, in launch_instance\n",
      "    app.start()\n",
      "  File \"/opt/conda/lib/python3.9/site-packages/notebook/serverextensions.py\", line 291, in start\n",
      "    super().start()\n",
      "  File \"/opt/conda/lib/python3.9/site-packages/jupyter_core/application.py\", line 258, in start\n",
      "    self.subapp.start()\n",
      "  File \"/opt/conda/lib/python3.9/site-packages/notebook/serverextensions.py\", line 210, in start\n",
      "    self.toggle_server_extension(arg)\n",
      "  File \"/opt/conda/lib/python3.9/site-packages/notebook/serverextensions.py\", line 181, in toggle_server_extension\n",
      "    toggle_serverextension_python(\n",
      "  File \"/opt/conda/lib/python3.9/site-packages/notebook/serverextensions.py\", line 71, in toggle_serverextension_python\n",
      "    cm.update(\"jupyter_notebook_config\", cfg)\n",
      "  File \"/opt/conda/lib/python3.9/site-packages/notebook/config_manager.py\", line 131, in update\n",
      "    self.set(section_name, data)\n",
      "  File \"/opt/conda/lib/python3.9/site-packages/notebook/config_manager.py\", line 120, in set\n",
      "    f = io.open(filename, 'w', encoding='utf-8')\n",
      "PermissionError: [Errno 13] Permission denied: '/home/jovyan/.jupyter/jupyter_notebook_config.json'\n"
     ]
    }
   ],
   "source": [
    "!jupyter serverextension enable panel.io.jupyter_server_extension"
   ]
  },
  {
   "cell_type": "code",
   "execution_count": 114,
   "id": "0e6adc69-c805-446d-a032-5ed640a48a31",
   "metadata": {
    "extensions": {
     "jupyter_dashboards": {
      "activeView": "grid_default",
      "views": {
       "grid_default": {
        "col": null,
        "height": 2,
        "hidden": true,
        "locked": true,
        "row": null,
        "width": 2
       }
      }
     }
    }
   },
   "outputs": [
    {
     "name": "stdout",
     "output_type": "stream",
     "text": [
      "Launching server at http://localhost:41149\n"
     ]
    },
    {
     "data": {
      "text/plain": [
       "<bokeh.server.server.Server at 0x7f57f52f6130>"
      ]
     },
     "execution_count": 114,
     "metadata": {},
     "output_type": "execute_result"
    }
   ],
   "source": [
    "first_app.show()"
   ]
  },
  {
   "cell_type": "code",
   "execution_count": 115,
   "id": "1259870d-a394-4ab7-803a-ec2dc17f76af",
   "metadata": {
    "extensions": {
     "jupyter_dashboards": {
      "activeView": "grid_default",
      "views": {
       "grid_default": {
        "col": null,
        "height": 2,
        "hidden": true,
        "locked": true,
        "row": null,
        "width": 2
       }
      }
     }
    }
   },
   "outputs": [
    {
     "name": "stdout",
     "output_type": "stream",
     "text": [
      "Requirement already satisfied: ipywidgets in /opt/conda/lib/python3.9/site-packages (7.7.1)\n",
      "Requirement already satisfied: jupyterlab-widgets>=1.0.0 in /opt/conda/lib/python3.9/site-packages (from ipywidgets) (1.1.1)\n",
      "Requirement already satisfied: ipython>=4.0.0 in /opt/conda/lib/python3.9/site-packages (from ipywidgets) (7.30.1)\n",
      "Requirement already satisfied: ipython-genutils~=0.2.0 in /opt/conda/lib/python3.9/site-packages (from ipywidgets) (0.2.0)\n",
      "Requirement already satisfied: ipykernel>=4.5.1 in /opt/conda/lib/python3.9/site-packages (from ipywidgets) (6.6.1)\n",
      "Requirement already satisfied: traitlets>=4.3.1 in /opt/conda/lib/python3.9/site-packages (from ipywidgets) (5.1.1)\n",
      "Requirement already satisfied: widgetsnbextension~=3.6.0 in /opt/conda/lib/python3.9/site-packages (from ipywidgets) (3.6.1)\n",
      "Requirement already satisfied: debugpy<2.0,>=1.0.0 in /opt/conda/lib/python3.9/site-packages (from ipykernel>=4.5.1->ipywidgets) (1.5.1)\n",
      "Requirement already satisfied: matplotlib-inline<0.2.0,>=0.1.0 in /opt/conda/lib/python3.9/site-packages (from ipykernel>=4.5.1->ipywidgets) (0.1.3)\n",
      "Requirement already satisfied: jupyter-client<8.0 in /opt/conda/lib/python3.9/site-packages (from ipykernel>=4.5.1->ipywidgets) (7.1.0)\n",
      "Requirement already satisfied: tornado<7.0,>=4.2 in /opt/conda/lib/python3.9/site-packages (from ipykernel>=4.5.1->ipywidgets) (6.1)\n",
      "Requirement already satisfied: nest-asyncio in /opt/conda/lib/python3.9/site-packages (from ipykernel>=4.5.1->ipywidgets) (1.5.4)\n",
      "Requirement already satisfied: jedi>=0.16 in /opt/conda/lib/python3.9/site-packages (from ipython>=4.0.0->ipywidgets) (0.18.1)\n",
      "Requirement already satisfied: pexpect>4.3 in /opt/conda/lib/python3.9/site-packages (from ipython>=4.0.0->ipywidgets) (4.8.0)\n",
      "Requirement already satisfied: decorator in /opt/conda/lib/python3.9/site-packages (from ipython>=4.0.0->ipywidgets) (5.1.0)\n",
      "Requirement already satisfied: prompt-toolkit!=3.0.0,!=3.0.1,<3.1.0,>=2.0.0 in /opt/conda/lib/python3.9/site-packages (from ipython>=4.0.0->ipywidgets) (3.0.24)\n",
      "Requirement already satisfied: setuptools>=18.5 in /opt/conda/lib/python3.9/site-packages (from ipython>=4.0.0->ipywidgets) (60.2.0)\n",
      "Requirement already satisfied: pygments in /opt/conda/lib/python3.9/site-packages (from ipython>=4.0.0->ipywidgets) (2.11.1)\n",
      "Requirement already satisfied: backcall in /opt/conda/lib/python3.9/site-packages (from ipython>=4.0.0->ipywidgets) (0.2.0)\n",
      "Requirement already satisfied: pickleshare in /opt/conda/lib/python3.9/site-packages (from ipython>=4.0.0->ipywidgets) (0.7.5)\n",
      "Requirement already satisfied: notebook>=4.4.1 in /opt/conda/lib/python3.9/site-packages (from widgetsnbextension~=3.6.0->ipywidgets) (6.4.6)\n",
      "Requirement already satisfied: parso<0.9.0,>=0.8.0 in /opt/conda/lib/python3.9/site-packages (from jedi>=0.16->ipython>=4.0.0->ipywidgets) (0.8.3)\n",
      "Requirement already satisfied: jupyter-core>=4.6.0 in /opt/conda/lib/python3.9/site-packages (from jupyter-client<8.0->ipykernel>=4.5.1->ipywidgets) (4.11.1)\n",
      "Requirement already satisfied: pyzmq>=13 in /opt/conda/lib/python3.9/site-packages (from jupyter-client<8.0->ipykernel>=4.5.1->ipywidgets) (22.3.0)\n",
      "Requirement already satisfied: python-dateutil>=2.1 in /opt/conda/lib/python3.9/site-packages (from jupyter-client<8.0->ipykernel>=4.5.1->ipywidgets) (2.8.2)\n",
      "Requirement already satisfied: entrypoints in /opt/conda/lib/python3.9/site-packages (from jupyter-client<8.0->ipykernel>=4.5.1->ipywidgets) (0.3)\n",
      "Requirement already satisfied: argon2-cffi in /opt/conda/lib/python3.9/site-packages (from notebook>=4.4.1->widgetsnbextension~=3.6.0->ipywidgets) (21.3.0)\n",
      "Requirement already satisfied: jinja2 in /opt/conda/lib/python3.9/site-packages (from notebook>=4.4.1->widgetsnbextension~=3.6.0->ipywidgets) (3.0.3)\n",
      "Requirement already satisfied: nbformat in /opt/conda/lib/python3.9/site-packages (from notebook>=4.4.1->widgetsnbextension~=3.6.0->ipywidgets) (5.4.0)\n",
      "Requirement already satisfied: nbconvert in /opt/conda/lib/python3.9/site-packages (from notebook>=4.4.1->widgetsnbextension~=3.6.0->ipywidgets) (6.5.3)\n",
      "Requirement already satisfied: prometheus-client in /opt/conda/lib/python3.9/site-packages (from notebook>=4.4.1->widgetsnbextension~=3.6.0->ipywidgets) (0.12.0)\n",
      "Requirement already satisfied: Send2Trash>=1.8.0 in /opt/conda/lib/python3.9/site-packages (from notebook>=4.4.1->widgetsnbextension~=3.6.0->ipywidgets) (1.8.0)\n",
      "Requirement already satisfied: terminado>=0.8.3 in /opt/conda/lib/python3.9/site-packages (from notebook>=4.4.1->widgetsnbextension~=3.6.0->ipywidgets) (0.12.1)\n",
      "Requirement already satisfied: ptyprocess>=0.5 in /opt/conda/lib/python3.9/site-packages (from pexpect>4.3->ipython>=4.0.0->ipywidgets) (0.7.0)\n",
      "Requirement already satisfied: wcwidth in /opt/conda/lib/python3.9/site-packages (from prompt-toolkit!=3.0.0,!=3.0.1,<3.1.0,>=2.0.0->ipython>=4.0.0->ipywidgets) (0.2.5)\n",
      "Requirement already satisfied: six>=1.5 in /opt/conda/lib/python3.9/site-packages (from python-dateutil>=2.1->jupyter-client<8.0->ipykernel>=4.5.1->ipywidgets) (1.16.0)\n",
      "Requirement already satisfied: argon2-cffi-bindings in /opt/conda/lib/python3.9/site-packages (from argon2-cffi->notebook>=4.4.1->widgetsnbextension~=3.6.0->ipywidgets) (21.2.0)\n",
      "Requirement already satisfied: MarkupSafe>=2.0 in /opt/conda/lib/python3.9/site-packages (from jinja2->notebook>=4.4.1->widgetsnbextension~=3.6.0->ipywidgets) (2.1.1)\n",
      "Requirement already satisfied: defusedxml in /opt/conda/lib/python3.9/site-packages (from nbconvert->notebook>=4.4.1->widgetsnbextension~=3.6.0->ipywidgets) (0.7.1)\n",
      "Requirement already satisfied: packaging in /opt/conda/lib/python3.9/site-packages (from nbconvert->notebook>=4.4.1->widgetsnbextension~=3.6.0->ipywidgets) (21.3)\n",
      "Requirement already satisfied: beautifulsoup4 in /opt/conda/lib/python3.9/site-packages (from nbconvert->notebook>=4.4.1->widgetsnbextension~=3.6.0->ipywidgets) (4.11.1)\n",
      "Requirement already satisfied: lxml in /opt/conda/lib/python3.9/site-packages (from nbconvert->notebook>=4.4.1->widgetsnbextension~=3.6.0->ipywidgets) (4.8.0)\n",
      "Requirement already satisfied: mistune<2,>=0.8.1 in /opt/conda/lib/python3.9/site-packages (from nbconvert->notebook>=4.4.1->widgetsnbextension~=3.6.0->ipywidgets) (0.8.4)\n",
      "Requirement already satisfied: nbclient>=0.5.0 in /opt/conda/lib/python3.9/site-packages (from nbconvert->notebook>=4.4.1->widgetsnbextension~=3.6.0->ipywidgets) (0.5.9)\n",
      "Requirement already satisfied: pandocfilters>=1.4.1 in /opt/conda/lib/python3.9/site-packages (from nbconvert->notebook>=4.4.1->widgetsnbextension~=3.6.0->ipywidgets) (1.5.0)\n",
      "Requirement already satisfied: tinycss2 in /opt/conda/lib/python3.9/site-packages (from nbconvert->notebook>=4.4.1->widgetsnbextension~=3.6.0->ipywidgets) (1.1.1)\n",
      "Requirement already satisfied: jupyterlab-pygments in /opt/conda/lib/python3.9/site-packages (from nbconvert->notebook>=4.4.1->widgetsnbextension~=3.6.0->ipywidgets) (0.1.2)\n",
      "Requirement already satisfied: bleach in /opt/conda/lib/python3.9/site-packages (from nbconvert->notebook>=4.4.1->widgetsnbextension~=3.6.0->ipywidgets) (4.1.0)\n",
      "Requirement already satisfied: fastjsonschema in /opt/conda/lib/python3.9/site-packages (from nbformat->notebook>=4.4.1->widgetsnbextension~=3.6.0->ipywidgets) (2.16.1)\n",
      "Requirement already satisfied: jsonschema>=2.6 in /opt/conda/lib/python3.9/site-packages (from nbformat->notebook>=4.4.1->widgetsnbextension~=3.6.0->ipywidgets) (4.3.3)\n",
      "Requirement already satisfied: attrs>=17.4.0 in /opt/conda/lib/python3.9/site-packages (from jsonschema>=2.6->nbformat->notebook>=4.4.1->widgetsnbextension~=3.6.0->ipywidgets) (21.4.0)\n",
      "Requirement already satisfied: pyrsistent!=0.17.0,!=0.17.1,!=0.17.2,>=0.14.0 in /opt/conda/lib/python3.9/site-packages (from jsonschema>=2.6->nbformat->notebook>=4.4.1->widgetsnbextension~=3.6.0->ipywidgets) (0.18.0)\n",
      "Requirement already satisfied: cffi>=1.0.1 in /opt/conda/lib/python3.9/site-packages (from argon2-cffi-bindings->argon2-cffi->notebook>=4.4.1->widgetsnbextension~=3.6.0->ipywidgets) (1.15.0)\n",
      "Requirement already satisfied: soupsieve>1.2 in /opt/conda/lib/python3.9/site-packages (from beautifulsoup4->nbconvert->notebook>=4.4.1->widgetsnbextension~=3.6.0->ipywidgets) (2.3.2.post1)\n",
      "Requirement already satisfied: webencodings in /opt/conda/lib/python3.9/site-packages (from bleach->nbconvert->notebook>=4.4.1->widgetsnbextension~=3.6.0->ipywidgets) (0.5.1)\n",
      "Requirement already satisfied: pyparsing!=3.0.5,>=2.0.2 in /opt/conda/lib/python3.9/site-packages (from packaging->nbconvert->notebook>=4.4.1->widgetsnbextension~=3.6.0->ipywidgets) (3.0.6)\n",
      "Requirement already satisfied: pycparser in /opt/conda/lib/python3.9/site-packages (from cffi>=1.0.1->argon2-cffi-bindings->argon2-cffi->notebook>=4.4.1->widgetsnbextension~=3.6.0->ipywidgets) (2.21)\n",
      "Note: you may need to restart the kernel to use updated packages.\n"
     ]
    }
   ],
   "source": [
    "pip install ipywidgets"
   ]
  },
  {
   "cell_type": "code",
   "execution_count": null,
   "id": "60597db9-fd74-406b-9686-4f0d97e31a94",
   "metadata": {
    "extensions": {
     "jupyter_dashboards": {
      "activeView": "grid_default",
      "views": {
       "grid_default": {
        "col": null,
        "height": 2,
        "hidden": true,
        "locked": true,
        "row": null,
        "width": 2
       }
      }
     }
    }
   },
   "outputs": [
    {
     "name": "stdout",
     "output_type": "stream",
     "text": [
      "[Voila] Using /tmp to store connection files\n",
      "[Voila] Storing connection files in /tmp/voila_b4t_p3_g.\n",
      "[Voila] Serving static files from /opt/conda/lib/python3.9/site-packages/voila/static.\n",
      "[Voila] Voilà is running at:\n",
      "http://localhost:8866/\n",
      "Couldn't find a suitable web browser!\n",
      "Set the BROWSER environment variable to your desired browser.\n",
      "Warning: program returned non-zero exit code #256\n",
      "/usr/bin/xdg-open: 869: x-www-browser: not found\n",
      "/usr/bin/xdg-open: 869: firefox: not found\n",
      "/usr/bin/xdg-open: 869: iceweasel: not found\n",
      "/usr/bin/xdg-open: 869: seamonkey: not found\n",
      "/usr/bin/xdg-open: 869: mozilla: not found\n",
      "/usr/bin/xdg-open: 869: epiphany: not found\n",
      "/usr/bin/xdg-open: 869: konqueror: not found\n",
      "/usr/bin/xdg-open: 869: chromium: not found\n",
      "/usr/bin/xdg-open: 869: chromium-browser: not found\n",
      "/usr/bin/xdg-open: 869: google-chrome: not found\n",
      "/usr/bin/xdg-open: 869: www-browser: not found\n",
      "/usr/bin/xdg-open: 869: links2: not found\n",
      "/usr/bin/xdg-open: 869: elinks: not found\n",
      "/usr/bin/xdg-open: 869: links: not found\n",
      "/usr/bin/xdg-open: 869: lynx: not found\n",
      "/usr/bin/xdg-open: 869: w3m: not found\n",
      "xdg-open: no method available for opening 'file:///tmp/tmp5elqoo2p.html'\n"
     ]
    }
   ],
   "source": [
    "!voila Untitled.ipynb\n"
   ]
  },
  {
   "cell_type": "code",
   "execution_count": null,
   "id": "2b84d93c-93b2-4fb0-a573-5852c5a97e80",
   "metadata": {
    "extensions": {
     "jupyter_dashboards": {
      "activeView": "grid_default",
      "views": {
       "grid_default": {
        "col": null,
        "height": 2,
        "hidden": true,
        "locked": true,
        "row": null,
        "width": 2
       }
      }
     }
    }
   },
   "outputs": [],
   "source": [
    "!pip freeze > requirements.txt"
   ]
  },
  {
   "cell_type": "code",
   "execution_count": null,
   "id": "3a6fc157-0d68-481c-afdf-b73dd88a8fe1",
   "metadata": {
    "extensions": {
     "jupyter_dashboards": {
      "activeView": "grid_default",
      "views": {
       "grid_default": {
        "col": null,
        "height": 2,
        "hidden": true,
        "locked": true,
        "row": null,
        "width": 2
       }
      }
     }
    },
    "tags": []
   },
   "outputs": [],
   "source": []
  }
 ],
 "metadata": {
  "extensions": {
   "jupyter_dashboards": {
    "activeView": "grid_default",
    "version": 1,
    "views": {
     "grid_default": {
      "cellMargin": 2,
      "defaultCellHeight": 40,
      "maxColumns": 12,
      "name": "grid",
      "type": "grid"
     }
    }
   }
  },
  "kernelspec": {
   "display_name": "Python 3 (ipykernel)",
   "language": "python",
   "name": "python3"
  },
  "language_info": {
   "codemirror_mode": {
    "name": "ipython",
    "version": 3
   },
   "file_extension": ".py",
   "mimetype": "text/x-python",
   "name": "python",
   "nbconvert_exporter": "python",
   "pygments_lexer": "ipython3",
   "version": "3.9.7"
  },
  "toc-autonumbering": true,
  "toc-showmarkdowntxt": false
 },
 "nbformat": 4,
 "nbformat_minor": 5
}
